{
 "cells": [
  {
   "cell_type": "code",
   "execution_count": 523,
   "metadata": {},
   "outputs": [],
   "source": [
    "import numpy as np\n",
    "import pylab \n",
    "import scipy.stats as stats\n",
    "import time"
   ]
  },
  {
   "cell_type": "markdown",
   "metadata": {},
   "source": [
    "## Random Integers\n",
    "We will generate each pseudorandom integer $n_i$ via the recursive relationship\n",
    "$$\n",
    "n_{i} \\equiv a n_{i - 1}\\pmod{m},\n",
    "$$\n",
    "where\n",
    "$$\n",
    "a = 7^5\\quad\\text{and}\\quad m = 2^{31} - 1.\n",
    "$$\n",
    "This will give us random integers in the interval $[1, m)$. The integer $n_0$ is the ranom seed. We add 1 to the user specified value of the seed because a random seed of 0 is popular, though it would result in all 0's for this algorithm. When no seed is specified, we will use the time as the seed."
   ]
  },
  {
   "cell_type": "code",
   "execution_count": 524,
   "metadata": {},
   "outputs": [],
   "source": [
    "def gen_int(size = 1, seed = None):\n",
    "    \n",
    "    if seed is None:        \n",
    "        n = int(time.time())\n",
    "    else:        \n",
    "        n = seed + 1\n",
    "        \n",
    "    a = 7**5\n",
    "    \n",
    "    global m    \n",
    "    m = 2**31 - 1\n",
    "    \n",
    "    result = np.zeros(shape = size)\n",
    "    \n",
    "    for i in range(size):       \n",
    "        n = (a * n) % m      \n",
    "        result[i] = n\n",
    "    \n",
    "    return result\n",
    "   "
   ]
  },
  {
   "cell_type": "markdown",
   "metadata": {},
   "source": [
    "## Testing our distributions\n",
    "We will be testing all further distributions. A qqplot will be used to test the valididity of the continuous distributions and we will check the mean, standard deviation, and skew for discrete distributions. In all cases, we will do this by generating size = 100000 random variables."
   ]
  },
  {
   "cell_type": "code",
   "execution_count": 525,
   "metadata": {},
   "outputs": [],
   "source": [
    "size = 100000"
   ]
  },
  {
   "cell_type": "markdown",
   "metadata": {},
   "source": [
    "## Uniform distribution\n",
    "This is a simple extension of the random integer construction. We can generate a pseudorandom uniform random variable $U_i\\sim{\\mathcal{U}[0, 1]}$ via\n",
    "$$\n",
    "U_i = \\frac{n_i - 0.5}{m}.\n",
    "$$\n",
    "The 0.5 in the expression removes bias; if it were not there $U_i$ would tend to be slightly too large. \n",
    "\n",
    "It is not difficult to sample from $\\mathcal{U}[a, b]$ once we are able to sample from $\\mathcal{U}[0, 1]$. Simply generate $U$ from $\\mathcal{U}[0, 1]$. To obtain an element of $\\mathcal{U}[a, b]$, just find $(b - a) U + a$."
   ]
  },
  {
   "cell_type": "code",
   "execution_count": 526,
   "metadata": {},
   "outputs": [
    {
     "data": {
      "image/png": "[encoded data removed]",
      "text/plain": [
       "<Figure size 432x288 with 1 Axes>"
      ]
     },
     "metadata": {
      "needs_background": "light"
     },
     "output_type": "display_data"
    }
   ],
   "source": [
    "def gen_uni(loc = 0, scale = 1, size = 1, seed = None):\n",
    "        \n",
    "    result = scale * (gen_int(size = size, seed = seed) + 0.5)/m + loc\n",
    "    \n",
    "    return result\n",
    "\n",
    "test_set = gen_uni(loc = 0, scale = 1, size = size, seed = 0)\n",
    "\n",
    "stats.probplot(test_set, dist = \"uniform\", plot = pylab)\n",
    "\n",
    "pylab.show()"
   ]
  },
  {
   "cell_type": "markdown",
   "metadata": {},
   "source": [
    "## Bernoulli distribution\n",
    "Using uniform random variables, simulating values from a Bernoulli distribution isn't too difficult. A Bernoulli random variable $X$ can either be 0 or 1. Specify the parameter $p$ of the Bernoulli distribution, which is the probability that $X = 1$. Generate a random uniform number $U$. If $U < p$, then $X = 1$, otherwise $X = 0$.\n",
    "\n",
    "The theoretical mean, standard deviation, and skew are \n",
    "$$\n",
    "p,\\quad \\sqrt{p(1-p)},\\quad\\text{and}\\quad \\frac{1 - 2p}{\\sqrt{p(1-p)}},\n",
    "$$ \n",
    "respectively. We will generate Bernoulli random variables for $p = 1/3$. As a result, the theoretical mean, standard deviation, and skew should be\n",
    "$$\n",
    "\\frac{1}{3}\\approx 0.333,\\quad \\frac{\\sqrt{2}}{3} \\approx 0.471\\quad\\text{and}\\quad \\frac{\\sqrt{2}}{2}\\approx 0.707\n",
    "$$\n",
    "respectively.\n"
   ]
  },
  {
   "cell_type": "code",
   "execution_count": 527,
   "metadata": {},
   "outputs": [
    {
     "data": {
      "text/plain": [
       "[0.33214, 0.470980912989051, 0.7128102025820409]"
      ]
     },
     "execution_count": 527,
     "metadata": {},
     "output_type": "execute_result"
    }
   ],
   "source": [
    "def gen_bern(p, size = 1, seed = None):\n",
    "    \n",
    "    result = (gen_uni(size = size, seed = seed) < p).astype('int')\n",
    "    \n",
    "    return result\n",
    "\n",
    "p = 1/3\n",
    "\n",
    "test_set = gen_bern(p = p, size = size, seed = 0)\n",
    "\n",
    "results = [np.mean(test_set), np.std(test_set), stats.skew(test_set)]\n",
    "results"
   ]
  },
  {
   "cell_type": "markdown",
   "metadata": {},
   "source": [
    "## Binomial distribution \n",
    "A binomial random variable defined by the parameters $p$ and $n$ is, by definition, the sum of $n$ Bernoulli random variables each defined by parameter $p$. Hence, we only need to generate Bernoullis and sum them to obtain Binomials.\n",
    "\n",
    "The theoretical mean, standard deviation, and skew are \n",
    "$$\n",
    "np,\\quad \\sqrt{np(1-p)},\\quad\\text{and}\\quad \\frac{1 - 2p}{\\sqrt{n p(1-p)}},\n",
    "$$ \n",
    "respectively. We will generate Binomial random variables for $p = 1/3$ and $n = 16$. As a result, the theoretical mean, standard deviation, and skew should be\n",
    "$$\n",
    "\\frac{16}{3}\\approx 5.333,\\quad \\frac{4\\sqrt{2}}{3} \\approx 1.886\\quad\\text{and}\\quad \\frac{\\sqrt{2}}{8}\\approx 0.177\n",
    "$$\n",
    "respectively."
   ]
  },
  {
   "cell_type": "code",
   "execution_count": 528,
   "metadata": {},
   "outputs": [
    {
     "data": {
      "text/plain": [
       "[5.32718, 1.8903844179425517, 0.16120921064555882]"
      ]
     },
     "execution_count": 528,
     "metadata": {},
     "output_type": "execute_result"
    }
   ],
   "source": [
    "def gen_binom(p, n, size = 1, seed = None):\n",
    "    \n",
    "    result = np.reshape(gen_bern(p = p, size = n * size, seed = seed), newshape = (n, size)).sum(axis = 0)\n",
    "    \n",
    "    return result\n",
    "\n",
    "p = 1/3\n",
    "n = 16\n",
    "\n",
    "test_set = gen_binom(p = p, n = n, size = size, seed = 0)\n",
    "\n",
    "results = [np.mean(test_set), np.std(test_set), stats.skew(test_set)]\n",
    "results"
   ]
  },
  {
   "cell_type": "markdown",
   "metadata": {},
   "source": [
    "## Poisson distribution \n",
    "This algorithm is more complicated. Fundamentally, the idea is that the expected time between Poisson events in a Poisson process follows and an exponential distribution. We will not elaborate further, but instead direct the reader to the Wikipedia article https://en.wikipedia.org/wiki/Poisson_distribution, which has a detailed explanation, including an explanation of the Knuth algorithm which we are using.\n",
    "\n",
    "In our construction, the parameter is $\\beta$. The theoretical mean, standard deviation, and skew are \n",
    "$$\n",
    "\\frac{1}{\\beta},\\quad \\frac{1}{\\sqrt{\\beta}},\\quad\\text{and}\\quad \\sqrt{\\beta},\n",
    "$$\n",
    "respectively. We will consider $\\beta = 1/4$ in which case our respective theoretical mean, standard deviation, and skew for the distribution are\n",
    "$$\n",
    "4,\\quad 2,\\quad\\text{and}\\quad \\frac{1}{2}.\n",
    "$$"
   ]
  },
  {
   "cell_type": "code",
   "execution_count": 529,
   "metadata": {},
   "outputs": [
    {
     "data": {
      "text/plain": [
       "[4.00995, 2.006591886134298, 0.4948657871928493]"
      ]
     },
     "execution_count": 529,
     "metadata": {},
     "output_type": "execute_result"
    }
   ],
   "source": [
    "# Knuth algorithm\n",
    "def gen_pois(beta, size = 1, seed = None):\n",
    "    \n",
    "    def gen_a_pois(seed):\n",
    "\n",
    "        L = np.exp(-1/beta)\n",
    "        k = 0\n",
    "        p = 1\n",
    "    \n",
    "        num = seed\n",
    "    \n",
    "        while(p > L):\n",
    "            num = gen_int(size = 1, seed = num)\n",
    "            k += 1\n",
    "            p = p * gen_uni(size = 1, seed = num)\n",
    "        \n",
    "        return k - 1\n",
    "    \n",
    "    gen_a_pois = np.vectorize(gen_a_pois)\n",
    "    \n",
    "    nums = gen_int(size = size, seed = seed)\n",
    "    \n",
    "    result = gen_a_pois(nums)\n",
    "    \n",
    "    return result  \n",
    "\n",
    "test_set = gen_pois(beta = 1/4, size = size, seed = 0)\n",
    "    \n",
    "results = [np.mean(test_set), np.std(test_set), stats.skew(test_set)]\n",
    "results"
   ]
  },
  {
   "cell_type": "markdown",
   "metadata": {},
   "source": [
    "## Exponential distribution \n",
    "Our exponential distribution has parameter $\\beta$. The cumulative distribution function is \n",
    "$$\n",
    "F(x) = 1 - e^{-x/\\beta}.\n",
    "$$ This implies the inverse is \n",
    "$$\n",
    "F^{-1}(u) = -\\beta \\log(1 - u).\n",
    "$$ \n",
    "As a result, we can generate numbers which follow an exponential distribution by generating uniforms and then applying $F^{-1}$. "
   ]
  },
  {
   "cell_type": "code",
   "execution_count": 530,
   "metadata": {
    "scrolled": true
   },
   "outputs": [
    {
     "data": {
      "image/png": "[encoded data removed]",
      "text/plain": [
       "<Figure size 432x288 with 1 Axes>"
      ]
     },
     "metadata": {
      "needs_background": "light"
     },
     "output_type": "display_data"
    }
   ],
   "source": [
    "def gen_exp(beta, size = 1, seed = None):\n",
    "    \n",
    "    result = -beta * np.log(1 - gen_uni(size = size, seed = seed))\n",
    "    \n",
    "    return result\n",
    "\n",
    "test_set = gen_exp(beta = 1, size = size, seed = 0)\n",
    "\n",
    "stats.probplot(test_set, sparams = (1/1), dist = \"expon\", fit = False, plot = pylab)\n",
    "pylab.show()"
   ]
  },
  {
   "cell_type": "markdown",
   "metadata": {},
   "source": [
    "## Normal distribution\n",
    "We will generate normal random variables using the Box-Muller algorithm, the Marsaglia polar algorithm, and the inverse cumulative distribution methods. Of the three, the Marsaglia polar algorithm is theoretically fastest. However, we found the inverse cumulative distribution method was far fastest. Perhaps this is because we used SciPy's inverse normal function, which may be highly optimized. "
   ]
  },
  {
   "cell_type": "code",
   "execution_count": 541,
   "metadata": {},
   "outputs": [],
   "source": [
    "# Array to recrod the time to generate the random variables\n",
    "gen_time = np.zeros(3)"
   ]
  },
  {
   "cell_type": "code",
   "execution_count": 542,
   "metadata": {},
   "outputs": [
    {
     "data": {
      "image/png": "[encoded data removed]",
      "text/plain": [
       "<Figure size 432x288 with 1 Axes>"
      ]
     },
     "metadata": {
      "needs_background": "light"
     },
     "output_type": "display_data"
    }
   ],
   "source": [
    "# Box-Muller algorithm\n",
    "def gen_norm1(mu = 0, sd = 1, size = size, seed = None):\n",
    "    \n",
    "    nums = gen_int(size = 2, seed = seed)\n",
    "    \n",
    "    n = int(np.ceil(size/2))\n",
    "    uni_1 = gen_uni(size = n, seed = nums[0])\n",
    "    uni_2 = gen_uni(size = n, seed = nums[1])\n",
    "    \n",
    "    r = np.sqrt(-2 * np.log(uni_1))\n",
    "    Z_1 = r * np.cos(2 * np.pi * uni_2)\n",
    "    Z_2 = r * np.sin(2 * np.pi * uni_2)\n",
    "    \n",
    "    result = np.concatenate([Z_1, Z_2])[0:size]\n",
    "    result = mu + sd * result\n",
    "    \n",
    "    return result\n",
    "\n",
    "start = time.time()\n",
    "test_set = gen_norm1(mu = 0, sd = 1, size = size, seed = 0)\n",
    "gen_time[0] = time.time() - start\n",
    "\n",
    "stats.probplot(test_set, sparams = (0, 1), dist = \"norm\", fit = False, plot = pylab)\n",
    "pylab.show()"
   ]
  },
  {
   "cell_type": "code",
   "execution_count": 543,
   "metadata": {},
   "outputs": [
    {
     "data": {
      "image/png": "[encoded data removed]",
      "text/plain": [
       "<Figure size 432x288 with 1 Axes>"
      ]
     },
     "metadata": {
      "needs_background": "light"
     },
     "output_type": "display_data"
    }
   ],
   "source": [
    "# Marsaglia polar algorithm\n",
    "def gen_norm2(mu = 0, sd = 1, size = size, seed = None):\n",
    "    \n",
    "    nums = gen_int(size = 2, seed = seed)\n",
    "    \n",
    "    prob = np.pi/4\n",
    "    n = int(0.5 * size/prob)\n",
    "    uni_1 = gen_uni(loc = -1, scale = 2, size = n, seed = nums[0])\n",
    "    uni_2 = gen_uni(loc = -1, scale = 2, size = n, seed = nums[1])\n",
    "    \n",
    "    W = uni_1**2 + uni_2**2\n",
    "    uni_1 = uni_1[W < 1] \n",
    "    uni_2 = uni_2[W < 1]\n",
    "    W = W[W < 1]\n",
    "    \n",
    "    x = np.sqrt(-2 * np.log(W)/W)\n",
    "    \n",
    "    result = np.concatenate([uni_1 * x, uni_2 * x])\n",
    "    \n",
    "    result = mu + sd * result\n",
    "    \n",
    "    nums = nums[0]\n",
    "    \n",
    "    if len(result) < size:\n",
    "        nums = gen_int(size = 1, seed = nums)\n",
    "        result = np.concatenate([result, gen_norm2(mu = mu, sd = sd, size = size - len(result), seed = nums)])\n",
    "        \n",
    "    return result[0:size]\n",
    "\n",
    "start = time.time()\n",
    "test_set = gen_norm2(mu = 0, sd = 1, size = size, seed = 0)\n",
    "gen_time[1] = time.time() - start\n",
    "\n",
    "stats.probplot(test_set, sparams = (0, 1), dist = \"norm\", fit = False, plot = pylab)\n",
    "pylab.show()"
   ]
  },
  {
   "cell_type": "code",
   "execution_count": 544,
   "metadata": {},
   "outputs": [
    {
     "data": {
      "image/png": "[encoded data removed]",
      "text/plain": [
       "<Figure size 432x288 with 1 Axes>"
      ]
     },
     "metadata": {
      "needs_background": "light"
     },
     "output_type": "display_data"
    }
   ],
   "source": [
    "# Inverse cdf\n",
    "def gen_norm3(mu = 0, sd = 1, size = size, seed = None):\n",
    "\n",
    "    uni = gen_uni(size = size, seed = seed)\n",
    "    \n",
    "    result = sd * stats.norm.ppf(uni) + mu\n",
    "        \n",
    "    return result\n",
    "\n",
    "start = time.time()\n",
    "test_set = gen_norm3(mu = 0, sd = 1, size = size, seed = 0)\n",
    "gen_time[2] = time.time() - start\n",
    "\n",
    "stats.probplot(test_set, sparams = (0, 1), dist = \"norm\", fit = False, plot = pylab)\n",
    "pylab.show()"
   ]
  },
  {
   "cell_type": "markdown",
   "metadata": {},
   "source": [
    "Below are the respective times for the Box-Muller algorithm, Marsaglia polar algorithm, and inverse cdf method. The inverse cdf method was far faster, which is a surprising result."
   ]
  },
  {
   "cell_type": "code",
   "execution_count": 545,
   "metadata": {},
   "outputs": [
    {
     "data": {
      "text/plain": [
       "array([0.16447282, 0.13900709, 0.05729413])"
      ]
     },
     "execution_count": 545,
     "metadata": {},
     "output_type": "execute_result"
    }
   ],
   "source": [
    "gen_time"
   ]
  }
 ],
 "metadata": {
  "kernelspec": {
   "display_name": "Python 3",
   "language": "python",
   "name": "python3"
  },
  "language_info": {
   "codemirror_mode": {
    "name": "ipython",
    "version": 3
   },
   "file_extension": ".py",
   "mimetype": "text/x-python",
   "name": "python",
   "nbconvert_exporter": "python",
   "pygments_lexer": "ipython3",
   "version": "3.7.7"
  }
 },
 "nbformat": 4,
 "nbformat_minor": 4
}
