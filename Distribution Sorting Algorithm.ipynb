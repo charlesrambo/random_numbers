{
 "cells": [
  {
   "cell_type": "markdown",
   "metadata": {},
   "source": [
    "# Objective\n",
    "\n",
    "We will create an alogrithm which sorts data into clusters of similar distributions. The algorithm only works when the distributions are continuous."
   ]
  },
  {
   "cell_type": "markdown",
   "metadata": {},
   "source": [
    "# Packages"
   ]
  },
  {
   "cell_type": "code",
   "execution_count": 1,
   "metadata": {},
   "outputs": [],
   "source": [
    "import numpy as np\n",
    "from numpy.random import normal, uniform\n",
    "import pandas as pd\n",
    "from sklearn.cluster import AgglomerativeClustering\n",
    "from scipy.stats import ks_2samp"
   ]
  },
  {
   "cell_type": "markdown",
   "metadata": {},
   "source": [
    "# Randomly Generated Data"
   ]
  },
  {
   "cell_type": "markdown",
   "metadata": {},
   "source": [
    "In practice, this step is not necessary. Image we have an Excel spreadsheet which records various aspects of events and the consequences of the events. We know columns 'prop-1' and 'prop-2' have relavent information regarding the distributions of the corresponding consequences. "
   ]
  },
  {
   "cell_type": "code",
   "execution_count": 2,
   "metadata": {},
   "outputs": [],
   "source": [
    "# Set random seed\n",
    "np.random.seed(0)\n",
    "\n",
    "# Create dataframe\n",
    "data = pd.DataFrame(index = range(1500), columns = ['prop-1', 'prop-2', 'consequence'])\n",
    "\n",
    "# Create labels\n",
    "data.loc[0:499, 'prop-1'], data.loc[500:999, 'prop-1'], data.loc[1000: , 'prop-1'] = 'A', 'B', 'C'\n",
    "data.loc[0:249, 'prop-2'], data.loc[250:749, 'prop-2'], data.loc[750: , 'prop-2'] = 1, 2, 3\n",
    "\n",
    "# Generate random numbers\n",
    "data.loc[0:499, 'consequence'] = normal(loc = 0, scale = 1, size = 500)\n",
    "data.loc[500:999, 'consequence'] = uniform(low = -1, high = 1, size = 500)\n",
    "data.loc[1000: , 'consequence'] = normal(loc = 0.25, scale = 1, size = 500)"
   ]
  },
  {
   "cell_type": "code",
   "execution_count": 3,
   "metadata": {},
   "outputs": [
    {
     "data": {
      "text/html": [
       "<div>\n",
       "<style scoped>\n",
       "    .dataframe tbody tr th:only-of-type {\n",
       "        vertical-align: middle;\n",
       "    }\n",
       "\n",
       "    .dataframe tbody tr th {\n",
       "        vertical-align: top;\n",
       "    }\n",
       "\n",
       "    .dataframe thead th {\n",
       "        text-align: right;\n",
       "    }\n",
       "</style>\n",
       "<table border=\"1\" class=\"dataframe\">\n",
       "  <thead>\n",
       "    <tr style=\"text-align: right;\">\n",
       "      <th></th>\n",
       "      <th>prop-1</th>\n",
       "      <th>prop-2</th>\n",
       "      <th>consequence</th>\n",
       "    </tr>\n",
       "  </thead>\n",
       "  <tbody>\n",
       "    <tr>\n",
       "      <th>0</th>\n",
       "      <td>A</td>\n",
       "      <td>1</td>\n",
       "      <td>1.76405</td>\n",
       "    </tr>\n",
       "    <tr>\n",
       "      <th>1</th>\n",
       "      <td>A</td>\n",
       "      <td>1</td>\n",
       "      <td>0.400157</td>\n",
       "    </tr>\n",
       "    <tr>\n",
       "      <th>2</th>\n",
       "      <td>A</td>\n",
       "      <td>1</td>\n",
       "      <td>0.978738</td>\n",
       "    </tr>\n",
       "    <tr>\n",
       "      <th>3</th>\n",
       "      <td>A</td>\n",
       "      <td>1</td>\n",
       "      <td>2.24089</td>\n",
       "    </tr>\n",
       "    <tr>\n",
       "      <th>4</th>\n",
       "      <td>A</td>\n",
       "      <td>1</td>\n",
       "      <td>1.86756</td>\n",
       "    </tr>\n",
       "  </tbody>\n",
       "</table>\n",
       "</div>"
      ],
      "text/plain": [
       "  prop-1 prop-2 consequence\n",
       "0      A      1     1.76405\n",
       "1      A      1    0.400157\n",
       "2      A      1    0.978738\n",
       "3      A      1     2.24089\n",
       "4      A      1     1.86756"
      ]
     },
     "execution_count": 3,
     "metadata": {},
     "output_type": "execute_result"
    }
   ],
   "source": [
    "data.head()"
   ]
  },
  {
   "cell_type": "code",
   "execution_count": 4,
   "metadata": {},
   "outputs": [
    {
     "data": {
      "text/html": [
       "<div>\n",
       "<style scoped>\n",
       "    .dataframe tbody tr th:only-of-type {\n",
       "        vertical-align: middle;\n",
       "    }\n",
       "\n",
       "    .dataframe tbody tr th {\n",
       "        vertical-align: top;\n",
       "    }\n",
       "\n",
       "    .dataframe thead th {\n",
       "        text-align: right;\n",
       "    }\n",
       "</style>\n",
       "<table border=\"1\" class=\"dataframe\">\n",
       "  <thead>\n",
       "    <tr style=\"text-align: right;\">\n",
       "      <th></th>\n",
       "      <th>prop-1</th>\n",
       "      <th>prop-2</th>\n",
       "      <th>consequence</th>\n",
       "    </tr>\n",
       "  </thead>\n",
       "  <tbody>\n",
       "    <tr>\n",
       "      <th>1495</th>\n",
       "      <td>C</td>\n",
       "      <td>3</td>\n",
       "      <td>1.72376</td>\n",
       "    </tr>\n",
       "    <tr>\n",
       "      <th>1496</th>\n",
       "      <td>C</td>\n",
       "      <td>3</td>\n",
       "      <td>0.639094</td>\n",
       "    </tr>\n",
       "    <tr>\n",
       "      <th>1497</th>\n",
       "      <td>C</td>\n",
       "      <td>3</td>\n",
       "      <td>1.42104</td>\n",
       "    </tr>\n",
       "    <tr>\n",
       "      <th>1498</th>\n",
       "      <td>C</td>\n",
       "      <td>3</td>\n",
       "      <td>-0.076561</td>\n",
       "    </tr>\n",
       "    <tr>\n",
       "      <th>1499</th>\n",
       "      <td>C</td>\n",
       "      <td>3</td>\n",
       "      <td>0.24179</td>\n",
       "    </tr>\n",
       "  </tbody>\n",
       "</table>\n",
       "</div>"
      ],
      "text/plain": [
       "     prop-1 prop-2 consequence\n",
       "1495      C      3     1.72376\n",
       "1496      C      3    0.639094\n",
       "1497      C      3     1.42104\n",
       "1498      C      3   -0.076561\n",
       "1499      C      3     0.24179"
      ]
     },
     "execution_count": 4,
     "metadata": {},
     "output_type": "execute_result"
    }
   ],
   "source": [
    "data.tail()"
   ]
  },
  {
   "cell_type": "markdown",
   "metadata": {},
   "source": [
    "# Function\n",
    "We will create our sorting function. The variable 'columns' selects the columns of your data which may have useful information regarding the distribution of the column 'consequence'. The variable 'crit_val' specifies the acceptable risk that disaggregated distributions are, in fact, the same. For example, if crit_val = 0.10, then the algorithm will disaggregate the data if the chance that the data are from the same distribution is less than 10%."
   ]
  },
  {
   "cell_type": "code",
   "execution_count": 5,
   "metadata": {},
   "outputs": [],
   "source": [
    "# Create a function to sort our data into distinct distributions\n",
    "def sort_data(data, columns, crit_val):\n",
    "    \n",
    "    # Obtain only unique combinations of columns in 'columns'\n",
    "    results = data[columns].drop_duplicates()\n",
    "    \n",
    "    # Reset index\n",
    "    results.reset_index(inplace = True, drop = True)\n",
    "    \n",
    "    # Save number of rows\n",
    "    n = len(results)\n",
    "    \n",
    "    # Record pad for distance; must be > 1\n",
    "    pad = 2\n",
    "    \n",
    "    # Construct distance matrix\n",
    "    dist_mat = np.zeros(shape = (n, n))\n",
    "    \n",
    "    # Create boolean function\n",
    "    bool_fun = lambda k: ((data[columns] == results.loc[k, columns]).prod(axis = 1)).astype(bool)\n",
    "    \n",
    "    for i in range(n):\n",
    "        for j in range(i):\n",
    "                \n",
    "            # Distance is pad minus ks-test p-value\n",
    "            dist_mat[i, j] = pad - ks_2samp(data.loc[bool_fun(i), 'consequence'], data.loc[bool_fun(j), 'consequence'])[1]\n",
    "                \n",
    "            # Must be symmetric matrix\n",
    "            dist_mat[j, i] = dist_mat[i, j]               \n",
    "    \n",
    "    # Specify criteria for hierarchical clustering\n",
    "    clust_alg = AgglomerativeClustering(n_clusters = None, \n",
    "                                      affinity = 'precomputed', \n",
    "                                      linkage = 'complete', \n",
    "                                      distance_threshold = pad - crit_val)\n",
    "    \n",
    "    # Perform hierarchical clustering using the distance matrix dist_mat\n",
    "    clusters = clust_alg.fit(dist_mat)\n",
    "    \n",
    "    # Record the clusters\n",
    "    results['cluster'] = clusters.labels_\n",
    "    \n",
    "    return results\n",
    "            "
   ]
  },
  {
   "cell_type": "markdown",
   "metadata": {},
   "source": [
    "# Results\n",
    "Since we constructed the data ourselves, it is clear the function it is working well."
   ]
  },
  {
   "cell_type": "code",
   "execution_count": 6,
   "metadata": {},
   "outputs": [
    {
     "data": {
      "text/html": [
       "<div>\n",
       "<style scoped>\n",
       "    .dataframe tbody tr th:only-of-type {\n",
       "        vertical-align: middle;\n",
       "    }\n",
       "\n",
       "    .dataframe tbody tr th {\n",
       "        vertical-align: top;\n",
       "    }\n",
       "\n",
       "    .dataframe thead th {\n",
       "        text-align: right;\n",
       "    }\n",
       "</style>\n",
       "<table border=\"1\" class=\"dataframe\">\n",
       "  <thead>\n",
       "    <tr style=\"text-align: right;\">\n",
       "      <th></th>\n",
       "      <th>prop-1</th>\n",
       "      <th>prop-2</th>\n",
       "      <th>cluster</th>\n",
       "    </tr>\n",
       "  </thead>\n",
       "  <tbody>\n",
       "    <tr>\n",
       "      <th>0</th>\n",
       "      <td>A</td>\n",
       "      <td>1</td>\n",
       "      <td>2</td>\n",
       "    </tr>\n",
       "    <tr>\n",
       "      <th>1</th>\n",
       "      <td>A</td>\n",
       "      <td>2</td>\n",
       "      <td>2</td>\n",
       "    </tr>\n",
       "    <tr>\n",
       "      <th>2</th>\n",
       "      <td>B</td>\n",
       "      <td>2</td>\n",
       "      <td>0</td>\n",
       "    </tr>\n",
       "    <tr>\n",
       "      <th>3</th>\n",
       "      <td>B</td>\n",
       "      <td>3</td>\n",
       "      <td>0</td>\n",
       "    </tr>\n",
       "    <tr>\n",
       "      <th>4</th>\n",
       "      <td>C</td>\n",
       "      <td>3</td>\n",
       "      <td>1</td>\n",
       "    </tr>\n",
       "  </tbody>\n",
       "</table>\n",
       "</div>"
      ],
      "text/plain": [
       "  prop-1 prop-2  cluster\n",
       "0      A      1        2\n",
       "1      A      2        2\n",
       "2      B      2        0\n",
       "3      B      3        0\n",
       "4      C      3        1"
      ]
     },
     "execution_count": 6,
     "metadata": {},
     "output_type": "execute_result"
    }
   ],
   "source": [
    "sort_data(data, ['prop-1', 'prop-2'], 0.10)"
   ]
  }
 ],
 "metadata": {
  "kernelspec": {
   "display_name": "Python 3",
   "language": "python",
   "name": "python3"
  },
  "language_info": {
   "codemirror_mode": {
    "name": "ipython",
    "version": 3
   },
   "file_extension": ".py",
   "mimetype": "text/x-python",
   "name": "python",
   "nbconvert_exporter": "python",
   "pygments_lexer": "ipython3",
   "version": "3.7.7"
  }
 },
 "nbformat": 4,
 "nbformat_minor": 4
}
